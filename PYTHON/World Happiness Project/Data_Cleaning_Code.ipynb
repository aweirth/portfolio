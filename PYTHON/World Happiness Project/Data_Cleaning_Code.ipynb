{
 "cells": [
  {
   "attachments": {},
   "cell_type": "markdown",
   "metadata": {},
   "source": [
    "The following code was what I used to clean and merge our data into one data frame. The starting data was world happiness data that was ranging from 2015-2022 and did not have aligning features."
   ]
  },
  {
   "cell_type": "markdown",
   "metadata": {},
   "source": [
    "# Import Packages"
   ]
  },
  {
   "cell_type": "code",
   "execution_count": 53,
   "metadata": {},
   "outputs": [],
   "source": [
    "import pandas as pd\n",
    "import numpy as np\n",
    "import seaborn as sns\n",
    "import matplotlib.pyplot as plt"
   ]
  },
  {
   "cell_type": "markdown",
   "metadata": {},
   "source": [
    "# Read in the data"
   ]
  },
  {
   "cell_type": "code",
   "execution_count": 54,
   "metadata": {
    "execution": {
     "iopub.execute_input": "2022-04-03T07:59:56.392491Z",
     "iopub.status.busy": "2022-04-03T07:59:56.391885Z",
     "iopub.status.idle": "2022-04-03T07:59:56.432587Z",
     "shell.execute_reply": "2022-04-03T07:59:56.431636Z",
     "shell.execute_reply.started": "2022-04-03T07:59:56.392447Z"
    }
   },
   "outputs": [],
   "source": [
    "df2015 = pd.read_csv('/Users/alexweirth/Documents/CS-370/final_project_data/2015.csv')\n",
    "df2016 = pd.read_csv('/Users/alexweirth/Documents/CS-370/final_project_data/2016.csv')\n",
    "df2017 = pd.read_csv('/Users/alexweirth/Documents/CS-370/final_project_data/2017.csv')\n",
    "df2018 = pd.read_csv('/Users/alexweirth/Documents/CS-370/final_project_data/2018.csv')\n",
    "df2019 = pd.read_csv('/Users/alexweirth/Documents/CS-370/final_project_data/2019.csv')\n",
    "df2020 = pd.read_csv('/Users/alexweirth/Documents/CS-370/final_project_data/2020.csv')\n",
    "df2021 = pd.read_csv('/Users/alexweirth/Documents/CS-370/final_project_data/2021.csv')\n",
    "df2022 = pd.read_csv('/Users/alexweirth/Documents/CS-370/final_project_data/2022.csv')"
   ]
  },
  {
   "cell_type": "code",
   "execution_count": 55,
   "metadata": {
    "execution": {
     "iopub.execute_input": "2022-04-03T07:59:56.434594Z",
     "iopub.status.busy": "2022-04-03T07:59:56.434266Z",
     "iopub.status.idle": "2022-04-03T07:59:56.44437Z",
     "shell.execute_reply": "2022-04-03T07:59:56.443341Z",
     "shell.execute_reply.started": "2022-04-03T07:59:56.43455Z"
    }
   },
   "outputs": [
    {
     "data": {
      "text/plain": [
       "((158, 12),\n",
       " (157, 13),\n",
       " (155, 12),\n",
       " (156, 9),\n",
       " (156, 9),\n",
       " (153, 20),\n",
       " (149, 20),\n",
       " (147, 12))"
      ]
     },
     "execution_count": 55,
     "metadata": {},
     "output_type": "execute_result"
    }
   ],
   "source": [
    "df2015.shape, df2016.shape, df2017.shape, df2018.shape, df2019.shape, df2020.shape, df2021.shape, df2022.shape"
   ]
  },
  {
   "cell_type": "markdown",
   "metadata": {},
   "source": [
    "# Add Year Column"
   ]
  },
  {
   "cell_type": "code",
   "execution_count": 56,
   "metadata": {
    "execution": {
     "iopub.execute_input": "2022-04-03T07:59:56.460629Z",
     "iopub.status.busy": "2022-04-03T07:59:56.460236Z",
     "iopub.status.idle": "2022-04-03T07:59:56.468824Z",
     "shell.execute_reply": "2022-04-03T07:59:56.467996Z",
     "shell.execute_reply.started": "2022-04-03T07:59:56.460599Z"
    }
   },
   "outputs": [],
   "source": [
    "yrs = ['2015', '2016', '2017', '2018', '2019', '2020', '2021', '2022']\n",
    "dfs = [df2015, df2016, df2017, df2018, df2019, df2020, df2021, df2022]\n",
    "for i in range(0,8):\n",
    "    dfs[i]['Year'] = yrs[i]"
   ]
  },
  {
   "cell_type": "markdown",
   "metadata": {},
   "source": [
    "# Explore, rename, and keep common columns"
   ]
  },
  {
   "cell_type": "code",
   "execution_count": 57,
   "metadata": {},
   "outputs": [],
   "source": [
    "common_cols = ['Happiness Rank', 'Country', 'Region', 'Happiness Score', 'Economy (GDP per Capita)', 'Family (Social Support)','Health (Life Expectancy)','Freedom', 'Trust (Government Corruption)','Generosity','Year']"
   ]
  },
  {
   "cell_type": "markdown",
   "metadata": {},
   "source": [
    "## 2015"
   ]
  },
  {
   "cell_type": "code",
   "execution_count": 58,
   "metadata": {
    "execution": {
     "iopub.execute_input": "2022-04-03T07:59:56.552471Z",
     "iopub.status.busy": "2022-04-03T07:59:56.551841Z",
     "iopub.status.idle": "2022-04-03T07:59:56.558577Z",
     "shell.execute_reply": "2022-04-03T07:59:56.557515Z",
     "shell.execute_reply.started": "2022-04-03T07:59:56.552417Z"
    }
   },
   "outputs": [
    {
     "data": {
      "text/plain": [
       "['Country',\n",
       " 'Region',\n",
       " 'Happiness Rank',\n",
       " 'Happiness Score',\n",
       " 'Standard Error',\n",
       " 'Economy (GDP per Capita)',\n",
       " 'Family',\n",
       " 'Health (Life Expectancy)',\n",
       " 'Freedom',\n",
       " 'Trust (Government Corruption)',\n",
       " 'Generosity',\n",
       " 'Dystopia Residual',\n",
       " 'Year']"
      ]
     },
     "execution_count": 58,
     "metadata": {},
     "output_type": "execute_result"
    }
   ],
   "source": [
    "df2015.columns.to_list()"
   ]
  },
  {
   "cell_type": "code",
   "execution_count": 59,
   "metadata": {
    "execution": {
     "iopub.execute_input": "2022-04-03T07:59:56.560282Z",
     "iopub.status.busy": "2022-04-03T07:59:56.559943Z",
     "iopub.status.idle": "2022-04-03T07:59:56.5736Z",
     "shell.execute_reply": "2022-04-03T07:59:56.572481Z",
     "shell.execute_reply.started": "2022-04-03T07:59:56.56025Z"
    }
   },
   "outputs": [],
   "source": [
    "df2015 = df2015.rename(columns={'Family':'Family (Social Support)'})"
   ]
  },
  {
   "cell_type": "markdown",
   "metadata": {},
   "source": [
    "## 2016"
   ]
  },
  {
   "cell_type": "code",
   "execution_count": 60,
   "metadata": {
    "execution": {
     "iopub.execute_input": "2022-04-03T07:59:56.652575Z",
     "iopub.status.busy": "2022-04-03T07:59:56.651843Z",
     "iopub.status.idle": "2022-04-03T07:59:56.658558Z",
     "shell.execute_reply": "2022-04-03T07:59:56.657634Z",
     "shell.execute_reply.started": "2022-04-03T07:59:56.652523Z"
    }
   },
   "outputs": [
    {
     "data": {
      "text/plain": [
       "['Country',\n",
       " 'Region',\n",
       " 'Happiness Rank',\n",
       " 'Happiness Score',\n",
       " 'Lower Confidence Interval',\n",
       " 'Upper Confidence Interval',\n",
       " 'Economy (GDP per Capita)',\n",
       " 'Family',\n",
       " 'Health (Life Expectancy)',\n",
       " 'Freedom',\n",
       " 'Trust (Government Corruption)',\n",
       " 'Generosity',\n",
       " 'Dystopia Residual',\n",
       " 'Year']"
      ]
     },
     "execution_count": 60,
     "metadata": {},
     "output_type": "execute_result"
    }
   ],
   "source": [
    "df2016.columns.to_list()"
   ]
  },
  {
   "cell_type": "code",
   "execution_count": 61,
   "metadata": {
    "execution": {
     "iopub.execute_input": "2022-04-03T07:59:56.660285Z",
     "iopub.status.busy": "2022-04-03T07:59:56.65994Z",
     "iopub.status.idle": "2022-04-03T07:59:56.671705Z",
     "shell.execute_reply": "2022-04-03T07:59:56.670569Z",
     "shell.execute_reply.started": "2022-04-03T07:59:56.660252Z"
    }
   },
   "outputs": [],
   "source": [
    "df2016 = df2016.rename(columns={'Family':'Family (Social Support)'})"
   ]
  },
  {
   "cell_type": "markdown",
   "metadata": {},
   "source": [
    "## 2017"
   ]
  },
  {
   "cell_type": "code",
   "execution_count": 62,
   "metadata": {
    "execution": {
     "iopub.execute_input": "2022-04-03T07:59:56.684153Z",
     "iopub.status.busy": "2022-04-03T07:59:56.683493Z",
     "iopub.status.idle": "2022-04-03T07:59:56.689756Z",
     "shell.execute_reply": "2022-04-03T07:59:56.688998Z",
     "shell.execute_reply.started": "2022-04-03T07:59:56.684116Z"
    }
   },
   "outputs": [
    {
     "data": {
      "text/plain": [
       "['Country',\n",
       " 'Happiness.Rank',\n",
       " 'Happiness.Score',\n",
       " 'Whisker.high',\n",
       " 'Whisker.low',\n",
       " 'Economy..GDP.per.Capita.',\n",
       " 'Family',\n",
       " 'Health..Life.Expectancy.',\n",
       " 'Freedom',\n",
       " 'Generosity',\n",
       " 'Trust..Government.Corruption.',\n",
       " 'Dystopia.Residual',\n",
       " 'Year']"
      ]
     },
     "execution_count": 62,
     "metadata": {},
     "output_type": "execute_result"
    }
   ],
   "source": [
    "df2017.columns.to_list()"
   ]
  },
  {
   "cell_type": "code",
   "execution_count": 63,
   "metadata": {
    "execution": {
     "iopub.execute_input": "2022-04-03T07:59:56.712281Z",
     "iopub.status.busy": "2022-04-03T07:59:56.711855Z",
     "iopub.status.idle": "2022-04-03T07:59:56.717783Z",
     "shell.execute_reply": "2022-04-03T07:59:56.716911Z",
     "shell.execute_reply.started": "2022-04-03T07:59:56.71225Z"
    }
   },
   "outputs": [],
   "source": [
    "df2017 = df2017.rename(columns={'Happiness.Rank':'Happiness Rank', 'Happiness.Score':'Happiness Score','Economy..GDP.per.Capita.':'Economy (GDP per Capita)','Family':'Family (Social Support)','Health..Life.Expectancy.':'Health (Life Expectancy)','Trust..Government.Corruption.':'Trust (Government Corruption)'})"
   ]
  },
  {
   "cell_type": "code",
   "execution_count": 64,
   "metadata": {
    "execution": {
     "iopub.execute_input": "2022-04-03T07:59:56.730033Z",
     "iopub.status.busy": "2022-04-03T07:59:56.729753Z",
     "iopub.status.idle": "2022-04-03T07:59:56.739598Z",
     "shell.execute_reply": "2022-04-03T07:59:56.73888Z",
     "shell.execute_reply.started": "2022-04-03T07:59:56.729992Z"
    }
   },
   "outputs": [],
   "source": [
    "df2017 = df2017.merge(df2015[[\"Country\",\"Region\"]], on=\"Country\", how=\"left\")\n",
    "df2017[\"Region\"] = df2017[\"Region\"].fillna('-')"
   ]
  },
  {
   "cell_type": "markdown",
   "metadata": {},
   "source": [
    "## 2018"
   ]
  },
  {
   "cell_type": "code",
   "execution_count": 65,
   "metadata": {
    "execution": {
     "iopub.execute_input": "2022-04-03T07:59:56.783851Z",
     "iopub.status.busy": "2022-04-03T07:59:56.783289Z",
     "iopub.status.idle": "2022-04-03T07:59:56.788887Z",
     "shell.execute_reply": "2022-04-03T07:59:56.788122Z",
     "shell.execute_reply.started": "2022-04-03T07:59:56.783813Z"
    }
   },
   "outputs": [
    {
     "data": {
      "text/plain": [
       "['Overall rank',\n",
       " 'Country or region',\n",
       " 'Score',\n",
       " 'GDP per capita',\n",
       " 'Social support',\n",
       " 'Healthy life expectancy',\n",
       " 'Freedom to make life choices',\n",
       " 'Generosity',\n",
       " 'Perceptions of corruption',\n",
       " 'Year']"
      ]
     },
     "execution_count": 65,
     "metadata": {},
     "output_type": "execute_result"
    }
   ],
   "source": [
    "df2018.columns.to_list()"
   ]
  },
  {
   "cell_type": "code",
   "execution_count": 66,
   "metadata": {
    "execution": {
     "iopub.execute_input": "2022-04-03T07:59:56.804261Z",
     "iopub.status.busy": "2022-04-03T07:59:56.803461Z",
     "iopub.status.idle": "2022-04-03T07:59:56.818344Z",
     "shell.execute_reply": "2022-04-03T07:59:56.817265Z",
     "shell.execute_reply.started": "2022-04-03T07:59:56.804221Z"
    }
   },
   "outputs": [
    {
     "data": {
      "text/html": [
       "<div>\n",
       "<style scoped>\n",
       "    .dataframe tbody tr th:only-of-type {\n",
       "        vertical-align: middle;\n",
       "    }\n",
       "\n",
       "    .dataframe tbody tr th {\n",
       "        vertical-align: top;\n",
       "    }\n",
       "\n",
       "    .dataframe thead th {\n",
       "        text-align: right;\n",
       "    }\n",
       "</style>\n",
       "<table border=\"1\" class=\"dataframe\">\n",
       "  <thead>\n",
       "    <tr style=\"text-align: right;\">\n",
       "      <th></th>\n",
       "      <th>Overall rank</th>\n",
       "      <th>Country or region</th>\n",
       "      <th>Score</th>\n",
       "      <th>GDP per capita</th>\n",
       "      <th>Social support</th>\n",
       "      <th>Healthy life expectancy</th>\n",
       "      <th>Freedom to make life choices</th>\n",
       "      <th>Generosity</th>\n",
       "      <th>Perceptions of corruption</th>\n",
       "      <th>Year</th>\n",
       "    </tr>\n",
       "  </thead>\n",
       "  <tbody>\n",
       "    <tr>\n",
       "      <th>0</th>\n",
       "      <td>1</td>\n",
       "      <td>Finland</td>\n",
       "      <td>7.632</td>\n",
       "      <td>1.305</td>\n",
       "      <td>1.592</td>\n",
       "      <td>0.874</td>\n",
       "      <td>0.681</td>\n",
       "      <td>0.202</td>\n",
       "      <td>0.393</td>\n",
       "      <td>2018</td>\n",
       "    </tr>\n",
       "    <tr>\n",
       "      <th>1</th>\n",
       "      <td>2</td>\n",
       "      <td>Norway</td>\n",
       "      <td>7.594</td>\n",
       "      <td>1.456</td>\n",
       "      <td>1.582</td>\n",
       "      <td>0.861</td>\n",
       "      <td>0.686</td>\n",
       "      <td>0.286</td>\n",
       "      <td>0.340</td>\n",
       "      <td>2018</td>\n",
       "    </tr>\n",
       "  </tbody>\n",
       "</table>\n",
       "</div>"
      ],
      "text/plain": [
       "   Overall rank Country or region  Score  GDP per capita  Social support  \\\n",
       "0             1           Finland  7.632           1.305           1.592   \n",
       "1             2            Norway  7.594           1.456           1.582   \n",
       "\n",
       "   Healthy life expectancy  Freedom to make life choices  Generosity  \\\n",
       "0                    0.874                         0.681       0.202   \n",
       "1                    0.861                         0.686       0.286   \n",
       "\n",
       "   Perceptions of corruption  Year  \n",
       "0                      0.393  2018  \n",
       "1                      0.340  2018  "
      ]
     },
     "execution_count": 66,
     "metadata": {},
     "output_type": "execute_result"
    }
   ],
   "source": [
    "df2018.head(2)"
   ]
  },
  {
   "cell_type": "code",
   "execution_count": 67,
   "metadata": {
    "execution": {
     "iopub.execute_input": "2022-04-03T07:59:56.820313Z",
     "iopub.status.busy": "2022-04-03T07:59:56.82004Z",
     "iopub.status.idle": "2022-04-03T07:59:56.831649Z",
     "shell.execute_reply": "2022-04-03T07:59:56.830757Z",
     "shell.execute_reply.started": "2022-04-03T07:59:56.820284Z"
    }
   },
   "outputs": [],
   "source": [
    "df2018 = df2018.rename(columns={'Overall rank':'Happiness Rank', 'Country or region':'Country', 'Score':'Happiness Score', 'GDP per capita':'Economy (GDP per Capita)','Social support':'Family (Social Support)','Healthy life expectancy':'Health (Life Expectancy)','Freedom to make life choices':'Freedom','Perceptions of corruption':'Trust (Government Corruption)'})"
   ]
  },
  {
   "cell_type": "markdown",
   "metadata": {},
   "source": [
    "### Add region column to df2018 and df019 "
   ]
  },
  {
   "cell_type": "code",
   "execution_count": 68,
   "metadata": {
    "execution": {
     "iopub.execute_input": "2022-04-03T07:59:56.920701Z",
     "iopub.status.busy": "2022-04-03T07:59:56.920401Z",
     "iopub.status.idle": "2022-04-03T07:59:56.930729Z",
     "shell.execute_reply": "2022-04-03T07:59:56.929583Z",
     "shell.execute_reply.started": "2022-04-03T07:59:56.920661Z"
    }
   },
   "outputs": [],
   "source": [
    "df2018 = df2018.merge(df2015[[\"Country\",\"Region\"]], on=\"Country\", how=\"left\")\n",
    "df2018[\"Region\"] = df2018[\"Region\"].fillna('-')"
   ]
  },
  {
   "cell_type": "markdown",
   "metadata": {},
   "source": [
    "## 2019"
   ]
  },
  {
   "cell_type": "code",
   "execution_count": 69,
   "metadata": {
    "execution": {
     "iopub.execute_input": "2022-04-03T07:59:57.012322Z",
     "iopub.status.busy": "2022-04-03T07:59:57.011827Z",
     "iopub.status.idle": "2022-04-03T07:59:57.017757Z",
     "shell.execute_reply": "2022-04-03T07:59:57.017245Z",
     "shell.execute_reply.started": "2022-04-03T07:59:57.012275Z"
    }
   },
   "outputs": [
    {
     "data": {
      "text/plain": [
       "['Overall rank',\n",
       " 'Country or region',\n",
       " 'Score',\n",
       " 'GDP per capita',\n",
       " 'Social support',\n",
       " 'Healthy life expectancy',\n",
       " 'Freedom to make life choices',\n",
       " 'Generosity',\n",
       " 'Perceptions of corruption',\n",
       " 'Year']"
      ]
     },
     "execution_count": 69,
     "metadata": {},
     "output_type": "execute_result"
    }
   ],
   "source": [
    "df2019.columns.to_list()"
   ]
  },
  {
   "cell_type": "code",
   "execution_count": 70,
   "metadata": {
    "execution": {
     "iopub.execute_input": "2022-04-03T07:59:57.065771Z",
     "iopub.status.busy": "2022-04-03T07:59:57.065077Z",
     "iopub.status.idle": "2022-04-03T07:59:57.071395Z",
     "shell.execute_reply": "2022-04-03T07:59:57.070786Z",
     "shell.execute_reply.started": "2022-04-03T07:59:57.065733Z"
    }
   },
   "outputs": [],
   "source": [
    "df2019 = df2019.rename(columns={'Overall rank':'Happiness Rank', 'Country or region':'Country', 'Score':'Happiness Score', 'GDP per capita':'Economy (GDP per Capita)','Social support':'Family (Social Support)','Healthy life expectancy':'Health (Life Expectancy)','Freedom to make life choices':'Freedom','Perceptions of corruption':'Trust (Government Corruption)'})"
   ]
  },
  {
   "cell_type": "code",
   "execution_count": 71,
   "metadata": {
    "execution": {
     "iopub.execute_input": "2022-04-03T07:59:57.073452Z",
     "iopub.status.busy": "2022-04-03T07:59:57.07299Z",
     "iopub.status.idle": "2022-04-03T07:59:57.089345Z",
     "shell.execute_reply": "2022-04-03T07:59:57.088343Z",
     "shell.execute_reply.started": "2022-04-03T07:59:57.07342Z"
    }
   },
   "outputs": [],
   "source": [
    "df2019 = df2019.merge(df2015[[\"Country\",\"Region\"]], on=\"Country\", how=\"left\")\n",
    "df2019[\"Region\"] = df2019[\"Region\"].fillna('-')"
   ]
  },
  {
   "cell_type": "markdown",
   "metadata": {},
   "source": [
    "## 2020"
   ]
  },
  {
   "cell_type": "code",
   "execution_count": 72,
   "metadata": {
    "execution": {
     "iopub.execute_input": "2022-04-03T07:59:57.11267Z",
     "iopub.status.busy": "2022-04-03T07:59:57.112343Z",
     "iopub.status.idle": "2022-04-03T07:59:57.117792Z",
     "shell.execute_reply": "2022-04-03T07:59:57.117133Z",
     "shell.execute_reply.started": "2022-04-03T07:59:57.112643Z"
    }
   },
   "outputs": [
    {
     "data": {
      "text/plain": [
       "['Country name',\n",
       " 'Regional indicator',\n",
       " 'Ladder score',\n",
       " 'Standard error of ladder score',\n",
       " 'upperwhisker',\n",
       " 'lowerwhisker',\n",
       " 'Logged GDP per capita',\n",
       " 'Social support',\n",
       " 'Healthy life expectancy',\n",
       " 'Freedom to make life choices',\n",
       " 'Generosity',\n",
       " 'Perceptions of corruption',\n",
       " 'Ladder score in Dystopia',\n",
       " 'Explained by: Log GDP per capita',\n",
       " 'Explained by: Social support',\n",
       " 'Explained by: Healthy life expectancy',\n",
       " 'Explained by: Freedom to make life choices',\n",
       " 'Explained by: Generosity',\n",
       " 'Explained by: Perceptions of corruption',\n",
       " 'Dystopia + residual',\n",
       " 'Year']"
      ]
     },
     "execution_count": 72,
     "metadata": {},
     "output_type": "execute_result"
    }
   ],
   "source": [
    "df2020.columns.to_list()"
   ]
  },
  {
   "cell_type": "code",
   "execution_count": 73,
   "metadata": {
    "execution": {
     "iopub.execute_input": "2022-04-03T07:59:57.124592Z",
     "iopub.status.busy": "2022-04-03T07:59:57.123778Z",
     "iopub.status.idle": "2022-04-03T07:59:57.147704Z",
     "shell.execute_reply": "2022-04-03T07:59:57.147037Z",
     "shell.execute_reply.started": "2022-04-03T07:59:57.124486Z"
    }
   },
   "outputs": [
    {
     "data": {
      "text/html": [
       "<div>\n",
       "<style scoped>\n",
       "    .dataframe tbody tr th:only-of-type {\n",
       "        vertical-align: middle;\n",
       "    }\n",
       "\n",
       "    .dataframe tbody tr th {\n",
       "        vertical-align: top;\n",
       "    }\n",
       "\n",
       "    .dataframe thead th {\n",
       "        text-align: right;\n",
       "    }\n",
       "</style>\n",
       "<table border=\"1\" class=\"dataframe\">\n",
       "  <thead>\n",
       "    <tr style=\"text-align: right;\">\n",
       "      <th></th>\n",
       "      <th>Country name</th>\n",
       "      <th>Regional indicator</th>\n",
       "      <th>Ladder score</th>\n",
       "      <th>Standard error of ladder score</th>\n",
       "      <th>upperwhisker</th>\n",
       "      <th>lowerwhisker</th>\n",
       "      <th>Logged GDP per capita</th>\n",
       "      <th>Social support</th>\n",
       "      <th>Healthy life expectancy</th>\n",
       "      <th>Freedom to make life choices</th>\n",
       "      <th>...</th>\n",
       "      <th>Perceptions of corruption</th>\n",
       "      <th>Ladder score in Dystopia</th>\n",
       "      <th>Explained by: Log GDP per capita</th>\n",
       "      <th>Explained by: Social support</th>\n",
       "      <th>Explained by: Healthy life expectancy</th>\n",
       "      <th>Explained by: Freedom to make life choices</th>\n",
       "      <th>Explained by: Generosity</th>\n",
       "      <th>Explained by: Perceptions of corruption</th>\n",
       "      <th>Dystopia + residual</th>\n",
       "      <th>Year</th>\n",
       "    </tr>\n",
       "  </thead>\n",
       "  <tbody>\n",
       "    <tr>\n",
       "      <th>0</th>\n",
       "      <td>Finland</td>\n",
       "      <td>Western Europe</td>\n",
       "      <td>7.8087</td>\n",
       "      <td>0.031156</td>\n",
       "      <td>7.869766</td>\n",
       "      <td>7.747634</td>\n",
       "      <td>10.639267</td>\n",
       "      <td>0.954330</td>\n",
       "      <td>71.900825</td>\n",
       "      <td>0.949172</td>\n",
       "      <td>...</td>\n",
       "      <td>0.195445</td>\n",
       "      <td>1.972317</td>\n",
       "      <td>1.285190</td>\n",
       "      <td>1.499526</td>\n",
       "      <td>0.961271</td>\n",
       "      <td>0.662317</td>\n",
       "      <td>0.159670</td>\n",
       "      <td>0.477857</td>\n",
       "      <td>2.762835</td>\n",
       "      <td>2020</td>\n",
       "    </tr>\n",
       "    <tr>\n",
       "      <th>1</th>\n",
       "      <td>Denmark</td>\n",
       "      <td>Western Europe</td>\n",
       "      <td>7.6456</td>\n",
       "      <td>0.033492</td>\n",
       "      <td>7.711245</td>\n",
       "      <td>7.579955</td>\n",
       "      <td>10.774001</td>\n",
       "      <td>0.955991</td>\n",
       "      <td>72.402504</td>\n",
       "      <td>0.951444</td>\n",
       "      <td>...</td>\n",
       "      <td>0.168489</td>\n",
       "      <td>1.972317</td>\n",
       "      <td>1.326949</td>\n",
       "      <td>1.503449</td>\n",
       "      <td>0.979333</td>\n",
       "      <td>0.665040</td>\n",
       "      <td>0.242793</td>\n",
       "      <td>0.495260</td>\n",
       "      <td>2.432741</td>\n",
       "      <td>2020</td>\n",
       "    </tr>\n",
       "  </tbody>\n",
       "</table>\n",
       "<p>2 rows × 21 columns</p>\n",
       "</div>"
      ],
      "text/plain": [
       "  Country name Regional indicator  Ladder score  \\\n",
       "0      Finland     Western Europe        7.8087   \n",
       "1      Denmark     Western Europe        7.6456   \n",
       "\n",
       "   Standard error of ladder score  upperwhisker  lowerwhisker  \\\n",
       "0                        0.031156      7.869766      7.747634   \n",
       "1                        0.033492      7.711245      7.579955   \n",
       "\n",
       "   Logged GDP per capita  Social support  Healthy life expectancy  \\\n",
       "0              10.639267        0.954330                71.900825   \n",
       "1              10.774001        0.955991                72.402504   \n",
       "\n",
       "   Freedom to make life choices  ...  Perceptions of corruption  \\\n",
       "0                      0.949172  ...                   0.195445   \n",
       "1                      0.951444  ...                   0.168489   \n",
       "\n",
       "   Ladder score in Dystopia  Explained by: Log GDP per capita  \\\n",
       "0                  1.972317                          1.285190   \n",
       "1                  1.972317                          1.326949   \n",
       "\n",
       "   Explained by: Social support  Explained by: Healthy life expectancy  \\\n",
       "0                      1.499526                               0.961271   \n",
       "1                      1.503449                               0.979333   \n",
       "\n",
       "   Explained by: Freedom to make life choices  Explained by: Generosity  \\\n",
       "0                                    0.662317                  0.159670   \n",
       "1                                    0.665040                  0.242793   \n",
       "\n",
       "   Explained by: Perceptions of corruption  Dystopia + residual  Year  \n",
       "0                                 0.477857             2.762835  2020  \n",
       "1                                 0.495260             2.432741  2020  \n",
       "\n",
       "[2 rows x 21 columns]"
      ]
     },
     "execution_count": 73,
     "metadata": {},
     "output_type": "execute_result"
    }
   ],
   "source": [
    "df2020.head(2)"
   ]
  },
  {
   "cell_type": "code",
   "execution_count": 74,
   "metadata": {
    "execution": {
     "iopub.execute_input": "2022-04-03T07:59:57.174352Z",
     "iopub.status.busy": "2022-04-03T07:59:57.173918Z",
     "iopub.status.idle": "2022-04-03T07:59:57.179906Z",
     "shell.execute_reply": "2022-04-03T07:59:57.179144Z",
     "shell.execute_reply.started": "2022-04-03T07:59:57.174312Z"
    }
   },
   "outputs": [],
   "source": [
    "df2020 = df2020.rename(columns={'Country name':'Country','Regional indicator': 'Region','Ladder score':'Happiness Score','Explained by: Social support':'Family (Social Support)','Explained by: Healthy life expectancy':'Health (Life Expectancy)','Explained by: Freedom to make life choices':'Freedom','Explained by: Perceptions of corruption':'Trust (Government Corruption)','Explained by: Log GDP per capita':'Economy (GDP per Capita)','Explained by: Generosity':'Generosity'})"
   ]
  },
  {
   "cell_type": "code",
   "execution_count": 75,
   "metadata": {
    "execution": {
     "iopub.execute_input": "2022-04-03T07:59:57.193182Z",
     "iopub.status.busy": "2022-04-03T07:59:57.192163Z",
     "iopub.status.idle": "2022-04-03T07:59:57.198866Z",
     "shell.execute_reply": "2022-04-03T07:59:57.198007Z",
     "shell.execute_reply.started": "2022-04-03T07:59:57.193139Z"
    }
   },
   "outputs": [],
   "source": [
    "df2020['Happiness Rank'] = [i for i in range(1, len(df2020.index)+1)]"
   ]
  },
  {
   "cell_type": "code",
   "execution_count": 76,
   "metadata": {
    "execution": {
     "iopub.execute_input": "2022-04-03T07:59:57.233636Z",
     "iopub.status.busy": "2022-04-03T07:59:57.232876Z",
     "iopub.status.idle": "2022-04-03T07:59:57.238983Z",
     "shell.execute_reply": "2022-04-03T07:59:57.237935Z",
     "shell.execute_reply.started": "2022-04-03T07:59:57.233594Z"
    }
   },
   "outputs": [],
   "source": [
    "df2020 = df2020.loc[:,~df2020.columns.duplicated(keep='last')]"
   ]
  },
  {
   "cell_type": "code",
   "execution_count": 77,
   "metadata": {
    "execution": {
     "iopub.execute_input": "2022-04-03T07:59:57.241106Z",
     "iopub.status.busy": "2022-04-03T07:59:57.240595Z",
     "iopub.status.idle": "2022-04-03T07:59:57.267758Z",
     "shell.execute_reply": "2022-04-03T07:59:57.267154Z",
     "shell.execute_reply.started": "2022-04-03T07:59:57.241038Z"
    }
   },
   "outputs": [
    {
     "data": {
      "text/html": [
       "<div>\n",
       "<style scoped>\n",
       "    .dataframe tbody tr th:only-of-type {\n",
       "        vertical-align: middle;\n",
       "    }\n",
       "\n",
       "    .dataframe tbody tr th {\n",
       "        vertical-align: top;\n",
       "    }\n",
       "\n",
       "    .dataframe thead th {\n",
       "        text-align: right;\n",
       "    }\n",
       "</style>\n",
       "<table border=\"1\" class=\"dataframe\">\n",
       "  <thead>\n",
       "    <tr style=\"text-align: right;\">\n",
       "      <th></th>\n",
       "      <th>Country</th>\n",
       "      <th>Region</th>\n",
       "      <th>Happiness Score</th>\n",
       "      <th>Standard error of ladder score</th>\n",
       "      <th>upperwhisker</th>\n",
       "      <th>lowerwhisker</th>\n",
       "      <th>Logged GDP per capita</th>\n",
       "      <th>Social support</th>\n",
       "      <th>Healthy life expectancy</th>\n",
       "      <th>Freedom to make life choices</th>\n",
       "      <th>...</th>\n",
       "      <th>Ladder score in Dystopia</th>\n",
       "      <th>Economy (GDP per Capita)</th>\n",
       "      <th>Family (Social Support)</th>\n",
       "      <th>Health (Life Expectancy)</th>\n",
       "      <th>Freedom</th>\n",
       "      <th>Generosity</th>\n",
       "      <th>Trust (Government Corruption)</th>\n",
       "      <th>Dystopia + residual</th>\n",
       "      <th>Year</th>\n",
       "      <th>Happiness Rank</th>\n",
       "    </tr>\n",
       "  </thead>\n",
       "  <tbody>\n",
       "    <tr>\n",
       "      <th>0</th>\n",
       "      <td>Finland</td>\n",
       "      <td>Western Europe</td>\n",
       "      <td>7.8087</td>\n",
       "      <td>0.031156</td>\n",
       "      <td>7.869766</td>\n",
       "      <td>7.747634</td>\n",
       "      <td>10.639267</td>\n",
       "      <td>0.954330</td>\n",
       "      <td>71.900825</td>\n",
       "      <td>0.949172</td>\n",
       "      <td>...</td>\n",
       "      <td>1.972317</td>\n",
       "      <td>1.285190</td>\n",
       "      <td>1.499526</td>\n",
       "      <td>0.961271</td>\n",
       "      <td>0.662317</td>\n",
       "      <td>0.159670</td>\n",
       "      <td>0.477857</td>\n",
       "      <td>2.762835</td>\n",
       "      <td>2020</td>\n",
       "      <td>1</td>\n",
       "    </tr>\n",
       "    <tr>\n",
       "      <th>1</th>\n",
       "      <td>Denmark</td>\n",
       "      <td>Western Europe</td>\n",
       "      <td>7.6456</td>\n",
       "      <td>0.033492</td>\n",
       "      <td>7.711245</td>\n",
       "      <td>7.579955</td>\n",
       "      <td>10.774001</td>\n",
       "      <td>0.955991</td>\n",
       "      <td>72.402504</td>\n",
       "      <td>0.951444</td>\n",
       "      <td>...</td>\n",
       "      <td>1.972317</td>\n",
       "      <td>1.326949</td>\n",
       "      <td>1.503449</td>\n",
       "      <td>0.979333</td>\n",
       "      <td>0.665040</td>\n",
       "      <td>0.242793</td>\n",
       "      <td>0.495260</td>\n",
       "      <td>2.432741</td>\n",
       "      <td>2020</td>\n",
       "      <td>2</td>\n",
       "    </tr>\n",
       "  </tbody>\n",
       "</table>\n",
       "<p>2 rows × 21 columns</p>\n",
       "</div>"
      ],
      "text/plain": [
       "   Country          Region  Happiness Score  Standard error of ladder score  \\\n",
       "0  Finland  Western Europe           7.8087                        0.031156   \n",
       "1  Denmark  Western Europe           7.6456                        0.033492   \n",
       "\n",
       "   upperwhisker  lowerwhisker  Logged GDP per capita  Social support  \\\n",
       "0      7.869766      7.747634              10.639267        0.954330   \n",
       "1      7.711245      7.579955              10.774001        0.955991   \n",
       "\n",
       "   Healthy life expectancy  Freedom to make life choices  ...  \\\n",
       "0                71.900825                      0.949172  ...   \n",
       "1                72.402504                      0.951444  ...   \n",
       "\n",
       "   Ladder score in Dystopia  Economy (GDP per Capita)  \\\n",
       "0                  1.972317                  1.285190   \n",
       "1                  1.972317                  1.326949   \n",
       "\n",
       "   Family (Social Support)  Health (Life Expectancy)   Freedom  Generosity  \\\n",
       "0                 1.499526                  0.961271  0.662317    0.159670   \n",
       "1                 1.503449                  0.979333  0.665040    0.242793   \n",
       "\n",
       "   Trust (Government Corruption)  Dystopia + residual  Year Happiness Rank  \n",
       "0                       0.477857             2.762835  2020              1  \n",
       "1                       0.495260             2.432741  2020              2  \n",
       "\n",
       "[2 rows x 21 columns]"
      ]
     },
     "execution_count": 77,
     "metadata": {},
     "output_type": "execute_result"
    }
   ],
   "source": [
    "df2020.head(2)"
   ]
  },
  {
   "cell_type": "markdown",
   "metadata": {},
   "source": [
    "##  2021"
   ]
  },
  {
   "cell_type": "code",
   "execution_count": 78,
   "metadata": {
    "execution": {
     "iopub.execute_input": "2022-04-03T07:59:57.284578Z",
     "iopub.status.busy": "2022-04-03T07:59:57.284163Z",
     "iopub.status.idle": "2022-04-03T07:59:57.289492Z",
     "shell.execute_reply": "2022-04-03T07:59:57.288841Z",
     "shell.execute_reply.started": "2022-04-03T07:59:57.284548Z"
    }
   },
   "outputs": [
    {
     "data": {
      "text/plain": [
       "['Country name',\n",
       " 'Regional indicator',\n",
       " 'Ladder score',\n",
       " 'Standard error of ladder score',\n",
       " 'upperwhisker',\n",
       " 'lowerwhisker',\n",
       " 'Logged GDP per capita',\n",
       " 'Social support',\n",
       " 'Healthy life expectancy',\n",
       " 'Freedom to make life choices',\n",
       " 'Generosity',\n",
       " 'Perceptions of corruption',\n",
       " 'Ladder score in Dystopia',\n",
       " 'Explained by: Log GDP per capita',\n",
       " 'Explained by: Social support',\n",
       " 'Explained by: Healthy life expectancy',\n",
       " 'Explained by: Freedom to make life choices',\n",
       " 'Explained by: Generosity',\n",
       " 'Explained by: Perceptions of corruption',\n",
       " 'Dystopia + residual',\n",
       " 'Year']"
      ]
     },
     "execution_count": 78,
     "metadata": {},
     "output_type": "execute_result"
    }
   ],
   "source": [
    "df2021.columns.to_list()"
   ]
  },
  {
   "cell_type": "code",
   "execution_count": 79,
   "metadata": {
    "execution": {
     "iopub.execute_input": "2022-04-03T07:59:57.320462Z",
     "iopub.status.busy": "2022-04-03T07:59:57.320042Z",
     "iopub.status.idle": "2022-04-03T07:59:57.325925Z",
     "shell.execute_reply": "2022-04-03T07:59:57.325249Z",
     "shell.execute_reply.started": "2022-04-03T07:59:57.320432Z"
    }
   },
   "outputs": [],
   "source": [
    "df2021 = df2021.rename(columns={'Country name':'Country','Regional indicator': 'Region','Ladder score':'Happiness Score','Explained by: Social support':'Family (Social Support)','Explained by: Healthy life expectancy':'Health (Life Expectancy)','Explained by: Freedom to make life choices':'Freedom','Explained by: Perceptions of corruption':'Trust (Government Corruption)','Explained by: Log GDP per capita':'Economy (GDP per Capita)','Explained by: Generosity':'Generosity'})"
   ]
  },
  {
   "cell_type": "code",
   "execution_count": 80,
   "metadata": {
    "execution": {
     "iopub.execute_input": "2022-04-03T07:59:57.32809Z",
     "iopub.status.busy": "2022-04-03T07:59:57.327387Z",
     "iopub.status.idle": "2022-04-03T07:59:57.341114Z",
     "shell.execute_reply": "2022-04-03T07:59:57.340272Z",
     "shell.execute_reply.started": "2022-04-03T07:59:57.328042Z"
    }
   },
   "outputs": [],
   "source": [
    "df2021 = df2021.loc[:,~df2021.columns.duplicated(keep='last')]"
   ]
  },
  {
   "cell_type": "code",
   "execution_count": 81,
   "metadata": {
    "execution": {
     "iopub.execute_input": "2022-04-03T07:59:57.343803Z",
     "iopub.status.busy": "2022-04-03T07:59:57.343453Z",
     "iopub.status.idle": "2022-04-03T07:59:57.354012Z",
     "shell.execute_reply": "2022-04-03T07:59:57.353295Z",
     "shell.execute_reply.started": "2022-04-03T07:59:57.343756Z"
    }
   },
   "outputs": [],
   "source": [
    "df2021['Happiness Rank'] = [i for i in range(1, len(df2021.index)+1)]"
   ]
  },
  {
   "cell_type": "code",
   "execution_count": 82,
   "metadata": {
    "execution": {
     "iopub.execute_input": "2022-04-03T07:59:57.356175Z",
     "iopub.status.busy": "2022-04-03T07:59:57.355599Z",
     "iopub.status.idle": "2022-04-03T07:59:57.385024Z",
     "shell.execute_reply": "2022-04-03T07:59:57.384121Z",
     "shell.execute_reply.started": "2022-04-03T07:59:57.356138Z"
    }
   },
   "outputs": [
    {
     "data": {
      "text/html": [
       "<div>\n",
       "<style scoped>\n",
       "    .dataframe tbody tr th:only-of-type {\n",
       "        vertical-align: middle;\n",
       "    }\n",
       "\n",
       "    .dataframe tbody tr th {\n",
       "        vertical-align: top;\n",
       "    }\n",
       "\n",
       "    .dataframe thead th {\n",
       "        text-align: right;\n",
       "    }\n",
       "</style>\n",
       "<table border=\"1\" class=\"dataframe\">\n",
       "  <thead>\n",
       "    <tr style=\"text-align: right;\">\n",
       "      <th></th>\n",
       "      <th>Country</th>\n",
       "      <th>Region</th>\n",
       "      <th>Happiness Score</th>\n",
       "      <th>Standard error of ladder score</th>\n",
       "      <th>upperwhisker</th>\n",
       "      <th>lowerwhisker</th>\n",
       "      <th>Logged GDP per capita</th>\n",
       "      <th>Social support</th>\n",
       "      <th>Healthy life expectancy</th>\n",
       "      <th>Freedom to make life choices</th>\n",
       "      <th>...</th>\n",
       "      <th>Ladder score in Dystopia</th>\n",
       "      <th>Economy (GDP per Capita)</th>\n",
       "      <th>Family (Social Support)</th>\n",
       "      <th>Health (Life Expectancy)</th>\n",
       "      <th>Freedom</th>\n",
       "      <th>Generosity</th>\n",
       "      <th>Trust (Government Corruption)</th>\n",
       "      <th>Dystopia + residual</th>\n",
       "      <th>Year</th>\n",
       "      <th>Happiness Rank</th>\n",
       "    </tr>\n",
       "  </thead>\n",
       "  <tbody>\n",
       "    <tr>\n",
       "      <th>0</th>\n",
       "      <td>Finland</td>\n",
       "      <td>Western Europe</td>\n",
       "      <td>7.842</td>\n",
       "      <td>0.032</td>\n",
       "      <td>7.904</td>\n",
       "      <td>7.780</td>\n",
       "      <td>10.775</td>\n",
       "      <td>0.954</td>\n",
       "      <td>72.0</td>\n",
       "      <td>0.949</td>\n",
       "      <td>...</td>\n",
       "      <td>2.43</td>\n",
       "      <td>1.446</td>\n",
       "      <td>1.106</td>\n",
       "      <td>0.741</td>\n",
       "      <td>0.691</td>\n",
       "      <td>0.124</td>\n",
       "      <td>0.481</td>\n",
       "      <td>3.253</td>\n",
       "      <td>2021</td>\n",
       "      <td>1</td>\n",
       "    </tr>\n",
       "    <tr>\n",
       "      <th>1</th>\n",
       "      <td>Denmark</td>\n",
       "      <td>Western Europe</td>\n",
       "      <td>7.620</td>\n",
       "      <td>0.035</td>\n",
       "      <td>7.687</td>\n",
       "      <td>7.552</td>\n",
       "      <td>10.933</td>\n",
       "      <td>0.954</td>\n",
       "      <td>72.7</td>\n",
       "      <td>0.946</td>\n",
       "      <td>...</td>\n",
       "      <td>2.43</td>\n",
       "      <td>1.502</td>\n",
       "      <td>1.108</td>\n",
       "      <td>0.763</td>\n",
       "      <td>0.686</td>\n",
       "      <td>0.208</td>\n",
       "      <td>0.485</td>\n",
       "      <td>2.868</td>\n",
       "      <td>2021</td>\n",
       "      <td>2</td>\n",
       "    </tr>\n",
       "  </tbody>\n",
       "</table>\n",
       "<p>2 rows × 21 columns</p>\n",
       "</div>"
      ],
      "text/plain": [
       "   Country          Region  Happiness Score  Standard error of ladder score  \\\n",
       "0  Finland  Western Europe            7.842                           0.032   \n",
       "1  Denmark  Western Europe            7.620                           0.035   \n",
       "\n",
       "   upperwhisker  lowerwhisker  Logged GDP per capita  Social support  \\\n",
       "0         7.904         7.780                 10.775           0.954   \n",
       "1         7.687         7.552                 10.933           0.954   \n",
       "\n",
       "   Healthy life expectancy  Freedom to make life choices  ...  \\\n",
       "0                     72.0                         0.949  ...   \n",
       "1                     72.7                         0.946  ...   \n",
       "\n",
       "   Ladder score in Dystopia  Economy (GDP per Capita)  \\\n",
       "0                      2.43                     1.446   \n",
       "1                      2.43                     1.502   \n",
       "\n",
       "   Family (Social Support)  Health (Life Expectancy)  Freedom  Generosity  \\\n",
       "0                    1.106                     0.741    0.691       0.124   \n",
       "1                    1.108                     0.763    0.686       0.208   \n",
       "\n",
       "   Trust (Government Corruption)  Dystopia + residual  Year Happiness Rank  \n",
       "0                          0.481                3.253  2021              1  \n",
       "1                          0.485                2.868  2021              2  \n",
       "\n",
       "[2 rows x 21 columns]"
      ]
     },
     "execution_count": 82,
     "metadata": {},
     "output_type": "execute_result"
    }
   ],
   "source": [
    "df2021.head(2)"
   ]
  },
  {
   "cell_type": "markdown",
   "metadata": {},
   "source": [
    "## 2022"
   ]
  },
  {
   "cell_type": "code",
   "execution_count": 83,
   "metadata": {
    "execution": {
     "iopub.execute_input": "2022-04-03T07:59:57.387224Z",
     "iopub.status.busy": "2022-04-03T07:59:57.386577Z",
     "iopub.status.idle": "2022-04-03T07:59:57.393245Z",
     "shell.execute_reply": "2022-04-03T07:59:57.392417Z",
     "shell.execute_reply.started": "2022-04-03T07:59:57.387186Z"
    }
   },
   "outputs": [
    {
     "data": {
      "text/plain": [
       "['RANK',\n",
       " 'Country',\n",
       " 'Happiness score',\n",
       " 'Whisker-high',\n",
       " 'Whisker-low',\n",
       " 'Dystopia (1.83) + residual',\n",
       " 'Explained by: GDP per capita',\n",
       " 'Explained by: Social support',\n",
       " 'Explained by: Healthy life expectancy',\n",
       " 'Explained by: Freedom to make life choices',\n",
       " 'Explained by: Generosity',\n",
       " 'Explained by: Perceptions of corruption',\n",
       " 'Year']"
      ]
     },
     "execution_count": 83,
     "metadata": {},
     "output_type": "execute_result"
    }
   ],
   "source": [
    "df2022.columns.to_list()"
   ]
  },
  {
   "cell_type": "code",
   "execution_count": 84,
   "metadata": {
    "execution": {
     "iopub.execute_input": "2022-04-03T07:59:57.432651Z",
     "iopub.status.busy": "2022-04-03T07:59:57.432007Z",
     "iopub.status.idle": "2022-04-03T07:59:57.438151Z",
     "shell.execute_reply": "2022-04-03T07:59:57.437274Z",
     "shell.execute_reply.started": "2022-04-03T07:59:57.43261Z"
    }
   },
   "outputs": [
    {
     "data": {
      "text/plain": [
       "['Happiness Rank',\n",
       " 'Country',\n",
       " 'Region',\n",
       " 'Happiness Score',\n",
       " 'Economy (GDP per Capita)',\n",
       " 'Family (Social Support)',\n",
       " 'Health (Life Expectancy)',\n",
       " 'Freedom',\n",
       " 'Trust (Government Corruption)',\n",
       " 'Generosity',\n",
       " 'Year']"
      ]
     },
     "execution_count": 84,
     "metadata": {},
     "output_type": "execute_result"
    }
   ],
   "source": [
    "common_cols"
   ]
  },
  {
   "cell_type": "code",
   "execution_count": 85,
   "metadata": {
    "execution": {
     "iopub.execute_input": "2022-04-03T07:59:57.458717Z",
     "iopub.status.busy": "2022-04-03T07:59:57.458313Z",
     "iopub.status.idle": "2022-04-03T07:59:57.468191Z",
     "shell.execute_reply": "2022-04-03T07:59:57.467246Z",
     "shell.execute_reply.started": "2022-04-03T07:59:57.458687Z"
    }
   },
   "outputs": [],
   "source": [
    "df2022 = df2022.merge(df2015[[\"Country\",\"Region\"]], on=\"Country\", how=\"left\")\n",
    "df2022[\"Region\"] = df2022[\"Region\"].fillna('-')"
   ]
  },
  {
   "cell_type": "code",
   "execution_count": 86,
   "metadata": {
    "execution": {
     "iopub.execute_input": "2022-04-03T07:59:57.500836Z",
     "iopub.status.busy": "2022-04-03T07:59:57.500002Z",
     "iopub.status.idle": "2022-04-03T07:59:57.506692Z",
     "shell.execute_reply": "2022-04-03T07:59:57.506117Z",
     "shell.execute_reply.started": "2022-04-03T07:59:57.500792Z"
    }
   },
   "outputs": [],
   "source": [
    "df2022 = df2022.rename(columns={'RANK':'Happiness Rank','Happiness score':'Happiness Score','Explained by: GDP per capita':'Economy (GDP per Capita)', 'Explained by: Social support':'Family (Social Support)','Explained by: Healthy life expectancy':'Health (Life Expectancy)','Explained by: Freedom to make life choices':'Freedom','Explained by: Generosity':'Generosity', 'Explained by: Perceptions of corruption':'Trust (Government Corruption)'})"
   ]
  },
  {
   "cell_type": "code",
   "execution_count": 87,
   "metadata": {
    "execution": {
     "iopub.execute_input": "2022-04-03T07:59:57.509226Z",
     "iopub.status.busy": "2022-04-03T07:59:57.508347Z",
     "iopub.status.idle": "2022-04-03T07:59:57.534096Z",
     "shell.execute_reply": "2022-04-03T07:59:57.533076Z",
     "shell.execute_reply.started": "2022-04-03T07:59:57.509184Z"
    }
   },
   "outputs": [
    {
     "data": {
      "text/html": [
       "<div>\n",
       "<style scoped>\n",
       "    .dataframe tbody tr th:only-of-type {\n",
       "        vertical-align: middle;\n",
       "    }\n",
       "\n",
       "    .dataframe tbody tr th {\n",
       "        vertical-align: top;\n",
       "    }\n",
       "\n",
       "    .dataframe thead th {\n",
       "        text-align: right;\n",
       "    }\n",
       "</style>\n",
       "<table border=\"1\" class=\"dataframe\">\n",
       "  <thead>\n",
       "    <tr style=\"text-align: right;\">\n",
       "      <th></th>\n",
       "      <th>Happiness Rank</th>\n",
       "      <th>Country</th>\n",
       "      <th>Happiness Score</th>\n",
       "      <th>Whisker-high</th>\n",
       "      <th>Whisker-low</th>\n",
       "      <th>Dystopia (1.83) + residual</th>\n",
       "      <th>Economy (GDP per Capita)</th>\n",
       "      <th>Family (Social Support)</th>\n",
       "      <th>Health (Life Expectancy)</th>\n",
       "      <th>Freedom</th>\n",
       "      <th>Generosity</th>\n",
       "      <th>Trust (Government Corruption)</th>\n",
       "      <th>Year</th>\n",
       "      <th>Region</th>\n",
       "    </tr>\n",
       "  </thead>\n",
       "  <tbody>\n",
       "    <tr>\n",
       "      <th>0</th>\n",
       "      <td>1</td>\n",
       "      <td>Finland</td>\n",
       "      <td>7,821</td>\n",
       "      <td>7,886</td>\n",
       "      <td>7,756</td>\n",
       "      <td>2,518</td>\n",
       "      <td>1,892</td>\n",
       "      <td>1,258</td>\n",
       "      <td>0,775</td>\n",
       "      <td>0,736</td>\n",
       "      <td>0,109</td>\n",
       "      <td>0,534</td>\n",
       "      <td>2022</td>\n",
       "      <td>Western Europe</td>\n",
       "    </tr>\n",
       "    <tr>\n",
       "      <th>1</th>\n",
       "      <td>2</td>\n",
       "      <td>Denmark</td>\n",
       "      <td>7,636</td>\n",
       "      <td>7,710</td>\n",
       "      <td>7,563</td>\n",
       "      <td>2,226</td>\n",
       "      <td>1,953</td>\n",
       "      <td>1,243</td>\n",
       "      <td>0,777</td>\n",
       "      <td>0,719</td>\n",
       "      <td>0,188</td>\n",
       "      <td>0,532</td>\n",
       "      <td>2022</td>\n",
       "      <td>Western Europe</td>\n",
       "    </tr>\n",
       "  </tbody>\n",
       "</table>\n",
       "</div>"
      ],
      "text/plain": [
       "   Happiness Rank  Country Happiness Score Whisker-high Whisker-low  \\\n",
       "0               1  Finland           7,821        7,886       7,756   \n",
       "1               2  Denmark           7,636        7,710       7,563   \n",
       "\n",
       "  Dystopia (1.83) + residual Economy (GDP per Capita) Family (Social Support)  \\\n",
       "0                      2,518                    1,892                   1,258   \n",
       "1                      2,226                    1,953                   1,243   \n",
       "\n",
       "  Health (Life Expectancy) Freedom Generosity Trust (Government Corruption)  \\\n",
       "0                    0,775   0,736      0,109                         0,534   \n",
       "1                    0,777   0,719      0,188                         0,532   \n",
       "\n",
       "   Year          Region  \n",
       "0  2022  Western Europe  \n",
       "1  2022  Western Europe  "
      ]
     },
     "execution_count": 87,
     "metadata": {},
     "output_type": "execute_result"
    }
   ],
   "source": [
    "df2022.head(2)"
   ]
  },
  {
   "cell_type": "markdown",
   "metadata": {},
   "source": [
    "# Merging Dataframes"
   ]
  },
  {
   "cell_type": "code",
   "execution_count": 88,
   "metadata": {
    "execution": {
     "iopub.execute_input": "2022-04-03T07:59:57.536207Z",
     "iopub.status.busy": "2022-04-03T07:59:57.535916Z",
     "iopub.status.idle": "2022-04-03T07:59:57.545715Z",
     "shell.execute_reply": "2022-04-03T07:59:57.545093Z",
     "shell.execute_reply.started": "2022-04-03T07:59:57.536175Z"
    }
   },
   "outputs": [
    {
     "data": {
      "text/plain": [
       "['Country',\n",
       " 'Region',\n",
       " 'Happiness Rank',\n",
       " 'Happiness Score',\n",
       " 'Standard Error',\n",
       " 'Economy (GDP per Capita)',\n",
       " 'Family (Social Support)',\n",
       " 'Health (Life Expectancy)',\n",
       " 'Freedom',\n",
       " 'Trust (Government Corruption)',\n",
       " 'Generosity',\n",
       " 'Dystopia Residual',\n",
       " 'Year']"
      ]
     },
     "execution_count": 88,
     "metadata": {},
     "output_type": "execute_result"
    }
   ],
   "source": [
    "df2015.columns.to_list()"
   ]
  },
  {
   "cell_type": "code",
   "execution_count": 89,
   "metadata": {
    "execution": {
     "iopub.execute_input": "2022-04-03T07:59:57.547514Z",
     "iopub.status.busy": "2022-04-03T07:59:57.546993Z",
     "iopub.status.idle": "2022-04-03T07:59:57.559909Z",
     "shell.execute_reply": "2022-04-03T07:59:57.559193Z",
     "shell.execute_reply.started": "2022-04-03T07:59:57.547479Z"
    }
   },
   "outputs": [
    {
     "data": {
      "text/plain": [
       "['Country',\n",
       " 'Region',\n",
       " 'Happiness Rank',\n",
       " 'Happiness Score',\n",
       " 'Lower Confidence Interval',\n",
       " 'Upper Confidence Interval',\n",
       " 'Economy (GDP per Capita)',\n",
       " 'Family (Social Support)',\n",
       " 'Health (Life Expectancy)',\n",
       " 'Freedom',\n",
       " 'Trust (Government Corruption)',\n",
       " 'Generosity',\n",
       " 'Dystopia Residual',\n",
       " 'Year']"
      ]
     },
     "execution_count": 89,
     "metadata": {},
     "output_type": "execute_result"
    }
   ],
   "source": [
    "df2016.columns.to_list()"
   ]
  },
  {
   "cell_type": "code",
   "execution_count": 90,
   "metadata": {
    "execution": {
     "iopub.execute_input": "2022-04-03T07:59:57.624543Z",
     "iopub.status.busy": "2022-04-03T07:59:57.624289Z",
     "iopub.status.idle": "2022-04-03T07:59:57.629588Z",
     "shell.execute_reply": "2022-04-03T07:59:57.629068Z",
     "shell.execute_reply.started": "2022-04-03T07:59:57.624517Z"
    }
   },
   "outputs": [
    {
     "data": {
      "text/plain": [
       "['Country',\n",
       " 'Happiness Rank',\n",
       " 'Happiness Score',\n",
       " 'Whisker.high',\n",
       " 'Whisker.low',\n",
       " 'Economy (GDP per Capita)',\n",
       " 'Family (Social Support)',\n",
       " 'Health (Life Expectancy)',\n",
       " 'Freedom',\n",
       " 'Generosity',\n",
       " 'Trust (Government Corruption)',\n",
       " 'Dystopia.Residual',\n",
       " 'Year',\n",
       " 'Region']"
      ]
     },
     "execution_count": 90,
     "metadata": {},
     "output_type": "execute_result"
    }
   ],
   "source": [
    "df2017.columns.to_list()"
   ]
  },
  {
   "cell_type": "code",
   "execution_count": 91,
   "metadata": {
    "execution": {
     "iopub.execute_input": "2022-04-03T07:59:57.635715Z",
     "iopub.status.busy": "2022-04-03T07:59:57.635008Z",
     "iopub.status.idle": "2022-04-03T07:59:57.64545Z",
     "shell.execute_reply": "2022-04-03T07:59:57.644588Z",
     "shell.execute_reply.started": "2022-04-03T07:59:57.635675Z"
    }
   },
   "outputs": [
    {
     "data": {
      "text/plain": [
       "['Happiness Rank',\n",
       " 'Country',\n",
       " 'Happiness Score',\n",
       " 'Economy (GDP per Capita)',\n",
       " 'Family (Social Support)',\n",
       " 'Health (Life Expectancy)',\n",
       " 'Freedom',\n",
       " 'Generosity',\n",
       " 'Trust (Government Corruption)',\n",
       " 'Year',\n",
       " 'Region']"
      ]
     },
     "execution_count": 91,
     "metadata": {},
     "output_type": "execute_result"
    }
   ],
   "source": [
    "df2018.columns.to_list()"
   ]
  },
  {
   "cell_type": "code",
   "execution_count": 92,
   "metadata": {
    "execution": {
     "iopub.execute_input": "2022-04-03T07:59:57.648123Z",
     "iopub.status.busy": "2022-04-03T07:59:57.647537Z",
     "iopub.status.idle": "2022-04-03T07:59:57.659366Z",
     "shell.execute_reply": "2022-04-03T07:59:57.658473Z",
     "shell.execute_reply.started": "2022-04-03T07:59:57.648076Z"
    }
   },
   "outputs": [
    {
     "data": {
      "text/plain": [
       "['Happiness Rank',\n",
       " 'Country',\n",
       " 'Happiness Score',\n",
       " 'Economy (GDP per Capita)',\n",
       " 'Family (Social Support)',\n",
       " 'Health (Life Expectancy)',\n",
       " 'Freedom',\n",
       " 'Generosity',\n",
       " 'Trust (Government Corruption)',\n",
       " 'Year',\n",
       " 'Region']"
      ]
     },
     "execution_count": 92,
     "metadata": {},
     "output_type": "execute_result"
    }
   ],
   "source": [
    "df2019.columns.to_list()"
   ]
  },
  {
   "cell_type": "code",
   "execution_count": 93,
   "metadata": {
    "execution": {
     "iopub.execute_input": "2022-04-03T07:59:57.661233Z",
     "iopub.status.busy": "2022-04-03T07:59:57.660442Z",
     "iopub.status.idle": "2022-04-03T07:59:57.673251Z",
     "shell.execute_reply": "2022-04-03T07:59:57.672452Z",
     "shell.execute_reply.started": "2022-04-03T07:59:57.661189Z"
    }
   },
   "outputs": [
    {
     "data": {
      "text/plain": [
       "['Country',\n",
       " 'Region',\n",
       " 'Happiness Score',\n",
       " 'Standard error of ladder score',\n",
       " 'upperwhisker',\n",
       " 'lowerwhisker',\n",
       " 'Logged GDP per capita',\n",
       " 'Social support',\n",
       " 'Healthy life expectancy',\n",
       " 'Freedom to make life choices',\n",
       " 'Perceptions of corruption',\n",
       " 'Ladder score in Dystopia',\n",
       " 'Economy (GDP per Capita)',\n",
       " 'Family (Social Support)',\n",
       " 'Health (Life Expectancy)',\n",
       " 'Freedom',\n",
       " 'Generosity',\n",
       " 'Trust (Government Corruption)',\n",
       " 'Dystopia + residual',\n",
       " 'Year',\n",
       " 'Happiness Rank']"
      ]
     },
     "execution_count": 93,
     "metadata": {},
     "output_type": "execute_result"
    }
   ],
   "source": [
    "df2020.columns.to_list()"
   ]
  },
  {
   "cell_type": "code",
   "execution_count": 94,
   "metadata": {
    "execution": {
     "iopub.execute_input": "2022-04-03T07:59:57.675361Z",
     "iopub.status.busy": "2022-04-03T07:59:57.674734Z",
     "iopub.status.idle": "2022-04-03T07:59:57.684751Z",
     "shell.execute_reply": "2022-04-03T07:59:57.683939Z",
     "shell.execute_reply.started": "2022-04-03T07:59:57.675326Z"
    }
   },
   "outputs": [
    {
     "data": {
      "text/plain": [
       "['Country',\n",
       " 'Region',\n",
       " 'Happiness Score',\n",
       " 'Standard error of ladder score',\n",
       " 'upperwhisker',\n",
       " 'lowerwhisker',\n",
       " 'Logged GDP per capita',\n",
       " 'Social support',\n",
       " 'Healthy life expectancy',\n",
       " 'Freedom to make life choices',\n",
       " 'Perceptions of corruption',\n",
       " 'Ladder score in Dystopia',\n",
       " 'Economy (GDP per Capita)',\n",
       " 'Family (Social Support)',\n",
       " 'Health (Life Expectancy)',\n",
       " 'Freedom',\n",
       " 'Generosity',\n",
       " 'Trust (Government Corruption)',\n",
       " 'Dystopia + residual',\n",
       " 'Year',\n",
       " 'Happiness Rank']"
      ]
     },
     "execution_count": 94,
     "metadata": {},
     "output_type": "execute_result"
    }
   ],
   "source": [
    "df2021.columns.to_list()"
   ]
  },
  {
   "cell_type": "code",
   "execution_count": 96,
   "metadata": {
    "execution": {
     "iopub.execute_input": "2022-04-03T07:59:57.740141Z",
     "iopub.status.busy": "2022-04-03T07:59:57.739419Z",
     "iopub.status.idle": "2022-04-03T07:59:57.758449Z",
     "shell.execute_reply": "2022-04-03T07:59:57.757346Z",
     "shell.execute_reply.started": "2022-04-03T07:59:57.740108Z"
    }
   },
   "outputs": [],
   "source": [
    "dfs = [df2015[common_cols], df2016[common_cols], df2017[common_cols], df2018[common_cols], df2019[common_cols], df2020[common_cols], df2021[common_cols]"
   ]
  },
  {
   "cell_type": "code",
   "execution_count": 97,
   "metadata": {
    "execution": {
     "iopub.execute_input": "2022-04-03T08:00:14.492206Z",
     "iopub.status.busy": "2022-04-03T08:00:14.491889Z",
     "iopub.status.idle": "2022-04-03T08:00:14.499121Z",
     "shell.execute_reply": "2022-04-03T08:00:14.498163Z",
     "shell.execute_reply.started": "2022-04-03T08:00:14.492168Z"
    }
   },
   "outputs": [],
   "source": [
    "df_merged = pd.DataFrame(columns=common_cols)"
   ]
  },
  {
   "cell_type": "code",
   "execution_count": 98,
   "metadata": {
    "execution": {
     "iopub.execute_input": "2022-04-03T08:00:16.580359Z",
     "iopub.status.busy": "2022-04-03T08:00:16.580078Z",
     "iopub.status.idle": "2022-04-03T08:00:16.588917Z",
     "shell.execute_reply": "2022-04-03T08:00:16.588002Z",
     "shell.execute_reply.started": "2022-04-03T08:00:16.580329Z"
    }
   },
   "outputs": [],
   "source": [
    "df_merged = df_merged.append(dfs)"
   ]
  },
  {
   "cell_type": "code",
   "execution_count": 99,
   "metadata": {
    "execution": {
     "iopub.execute_input": "2022-04-03T08:00:20.360507Z",
     "iopub.status.busy": "2022-04-03T08:00:20.360213Z",
     "iopub.status.idle": "2022-04-03T08:00:20.366471Z",
     "shell.execute_reply": "2022-04-03T08:00:20.365494Z",
     "shell.execute_reply.started": "2022-04-03T08:00:20.360477Z"
    }
   },
   "outputs": [
    {
     "data": {
      "text/plain": [
       "(1231, 11)"
      ]
     },
     "execution_count": 99,
     "metadata": {},
     "output_type": "execute_result"
    }
   ],
   "source": [
    "df_merged.shape"
   ]
  },
  {
   "cell_type": "code",
   "execution_count": 100,
   "metadata": {
    "execution": {
     "iopub.execute_input": "2022-04-03T08:03:12.612127Z",
     "iopub.status.busy": "2022-04-03T08:03:12.611543Z",
     "iopub.status.idle": "2022-04-03T08:03:12.618446Z",
     "shell.execute_reply": "2022-04-03T08:03:12.617697Z",
     "shell.execute_reply.started": "2022-04-03T08:03:12.612092Z"
    }
   },
   "outputs": [],
   "source": [
    "df_merged.dropna(axis='rows',inplace=True)"
   ]
  },
  {
   "cell_type": "code",
   "execution_count": 101,
   "metadata": {
    "execution": {
     "iopub.execute_input": "2022-04-03T08:03:15.052543Z",
     "iopub.status.busy": "2022-04-03T08:03:15.052272Z",
     "iopub.status.idle": "2022-04-03T08:03:15.05881Z",
     "shell.execute_reply": "2022-04-03T08:03:15.057521Z",
     "shell.execute_reply.started": "2022-04-03T08:03:15.052507Z"
    }
   },
   "outputs": [
    {
     "data": {
      "text/plain": [
       "(1229, 11)"
      ]
     },
     "execution_count": 101,
     "metadata": {},
     "output_type": "execute_result"
    }
   ],
   "source": [
    "df_merged.shape"
   ]
  },
  {
   "cell_type": "markdown",
   "metadata": {},
   "source": [
    "### Switch to type float64 bit"
   ]
  },
  {
   "cell_type": "code",
   "execution_count": 105,
   "metadata": {},
   "outputs": [],
   "source": [
    "columns = ['Happiness Score',\n",
    " 'Economy (GDP per Capita)',\n",
    " 'Family (Social Support)',\n",
    " 'Health (Life Expectancy)',\n",
    " 'Freedom',\n",
    " 'Trust (Government Corruption)',\n",
    " 'Generosity']\n",
    "\n",
    "for i in columns:\n",
    "    df_merged[i] = pd.to_numeric(df_merged[i], errors='coerce')"
   ]
  },
  {
   "cell_type": "markdown",
   "metadata": {},
   "source": [
    "### Rounding each floating point column to two decimal places"
   ]
  },
  {
   "cell_type": "code",
   "execution_count": 106,
   "metadata": {},
   "outputs": [],
   "source": [
    "for i in columns:\n",
    "    df_merged[i] = df_merged[i].round(decimals = 2)"
   ]
  },
  {
   "cell_type": "markdown",
   "metadata": {},
   "source": [
    "### Modifying Index Column"
   ]
  },
  {
   "cell_type": "code",
   "execution_count": null,
   "metadata": {},
   "outputs": [],
   "source": [
    "size = df_merged.shape[0]\n",
    "df_merged.insert(0, \"index\", [i for i in range(0, size)])"
   ]
  },
  {
   "cell_type": "code",
   "execution_count": 121,
   "metadata": {},
   "outputs": [
    {
     "data": {
      "text/html": [
       "<div>\n",
       "<style scoped>\n",
       "    .dataframe tbody tr th:only-of-type {\n",
       "        vertical-align: middle;\n",
       "    }\n",
       "\n",
       "    .dataframe tbody tr th {\n",
       "        vertical-align: top;\n",
       "    }\n",
       "\n",
       "    .dataframe thead th {\n",
       "        text-align: right;\n",
       "    }\n",
       "</style>\n",
       "<table border=\"1\" class=\"dataframe\">\n",
       "  <thead>\n",
       "    <tr style=\"text-align: right;\">\n",
       "      <th></th>\n",
       "      <th>index</th>\n",
       "      <th>Happiness Rank</th>\n",
       "      <th>Country</th>\n",
       "      <th>Region</th>\n",
       "      <th>Happiness Score</th>\n",
       "      <th>Economy (GDP per Capita)</th>\n",
       "      <th>Family (Social Support)</th>\n",
       "      <th>Health (Life Expectancy)</th>\n",
       "      <th>Freedom</th>\n",
       "      <th>Trust (Government Corruption)</th>\n",
       "      <th>Generosity</th>\n",
       "      <th>Year</th>\n",
       "    </tr>\n",
       "  </thead>\n",
       "  <tbody>\n",
       "    <tr>\n",
       "      <th>1</th>\n",
       "      <td>1</td>\n",
       "      <td>2</td>\n",
       "      <td>Iceland</td>\n",
       "      <td>Western Europe</td>\n",
       "      <td>7.56</td>\n",
       "      <td>1.30</td>\n",
       "      <td>1.40</td>\n",
       "      <td>0.95</td>\n",
       "      <td>0.63</td>\n",
       "      <td>0.14</td>\n",
       "      <td>0.44</td>\n",
       "      <td>2015</td>\n",
       "    </tr>\n",
       "    <tr>\n",
       "      <th>2</th>\n",
       "      <td>2</td>\n",
       "      <td>3</td>\n",
       "      <td>Denmark</td>\n",
       "      <td>Western Europe</td>\n",
       "      <td>7.53</td>\n",
       "      <td>1.33</td>\n",
       "      <td>1.36</td>\n",
       "      <td>0.87</td>\n",
       "      <td>0.65</td>\n",
       "      <td>0.48</td>\n",
       "      <td>0.34</td>\n",
       "      <td>2015</td>\n",
       "    </tr>\n",
       "    <tr>\n",
       "      <th>3</th>\n",
       "      <td>3</td>\n",
       "      <td>4</td>\n",
       "      <td>Norway</td>\n",
       "      <td>Western Europe</td>\n",
       "      <td>7.52</td>\n",
       "      <td>1.46</td>\n",
       "      <td>1.33</td>\n",
       "      <td>0.89</td>\n",
       "      <td>0.67</td>\n",
       "      <td>0.37</td>\n",
       "      <td>0.35</td>\n",
       "      <td>2015</td>\n",
       "    </tr>\n",
       "    <tr>\n",
       "      <th>4</th>\n",
       "      <td>4</td>\n",
       "      <td>5</td>\n",
       "      <td>Canada</td>\n",
       "      <td>North America</td>\n",
       "      <td>7.43</td>\n",
       "      <td>1.33</td>\n",
       "      <td>1.32</td>\n",
       "      <td>0.91</td>\n",
       "      <td>0.63</td>\n",
       "      <td>0.33</td>\n",
       "      <td>0.46</td>\n",
       "      <td>2015</td>\n",
       "    </tr>\n",
       "    <tr>\n",
       "      <th>5</th>\n",
       "      <td>5</td>\n",
       "      <td>6</td>\n",
       "      <td>Finland</td>\n",
       "      <td>Western Europe</td>\n",
       "      <td>7.41</td>\n",
       "      <td>1.29</td>\n",
       "      <td>1.32</td>\n",
       "      <td>0.89</td>\n",
       "      <td>0.64</td>\n",
       "      <td>0.41</td>\n",
       "      <td>0.23</td>\n",
       "      <td>2015</td>\n",
       "    </tr>\n",
       "  </tbody>\n",
       "</table>\n",
       "</div>"
      ],
      "text/plain": [
       "   index Happiness Rank  Country          Region  Happiness Score  \\\n",
       "1      1              2  Iceland  Western Europe             7.56   \n",
       "2      2              3  Denmark  Western Europe             7.53   \n",
       "3      3              4   Norway  Western Europe             7.52   \n",
       "4      4              5   Canada   North America             7.43   \n",
       "5      5              6  Finland  Western Europe             7.41   \n",
       "\n",
       "   Economy (GDP per Capita)  Family (Social Support)  \\\n",
       "1                      1.30                     1.40   \n",
       "2                      1.33                     1.36   \n",
       "3                      1.46                     1.33   \n",
       "4                      1.33                     1.32   \n",
       "5                      1.29                     1.32   \n",
       "\n",
       "   Health (Life Expectancy)  Freedom  Trust (Government Corruption)  \\\n",
       "1                      0.95     0.63                           0.14   \n",
       "2                      0.87     0.65                           0.48   \n",
       "3                      0.89     0.67                           0.37   \n",
       "4                      0.91     0.63                           0.33   \n",
       "5                      0.89     0.64                           0.41   \n",
       "\n",
       "   Generosity  Year  \n",
       "1        0.44  2015  \n",
       "2        0.34  2015  \n",
       "3        0.35  2015  \n",
       "4        0.46  2015  \n",
       "5        0.23  2015  "
      ]
     },
     "execution_count": 121,
     "metadata": {},
     "output_type": "execute_result"
    }
   ],
   "source": [
    "df_merged.head()"
   ]
  },
  {
   "cell_type": "code",
   "execution_count": 123,
   "metadata": {
    "execution": {
     "iopub.execute_input": "2022-04-03T08:04:06.272898Z",
     "iopub.status.busy": "2022-04-03T08:04:06.272602Z",
     "iopub.status.idle": "2022-04-03T08:04:06.288218Z",
     "shell.execute_reply": "2022-04-03T08:04:06.286976Z",
     "shell.execute_reply.started": "2022-04-03T08:04:06.272863Z"
    }
   },
   "outputs": [],
   "source": [
    "df_merged.to_csv('/Users/alexweirth/Documents/CS-370/final_project_data/Final_Data_Cleaned.csv')"
   ]
  }
 ],
 "metadata": {
  "kernelspec": {
   "display_name": "Python 3",
   "language": "python",
   "name": "python3"
  },
  "language_info": {
   "codemirror_mode": {
    "name": "ipython",
    "version": 3
   },
   "file_extension": ".py",
   "mimetype": "text/x-python",
   "name": "python",
   "nbconvert_exporter": "python",
   "pygments_lexer": "ipython3",
   "version": "3.8.5"
  }
 },
 "nbformat": 4,
 "nbformat_minor": 4
}
